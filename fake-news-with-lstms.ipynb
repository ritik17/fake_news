{
 "cells": [
  {
   "cell_type": "code",
   "execution_count": 11,
   "metadata": {
    "_cell_guid": "b1076dfc-b9ad-4769-8c92-a6c4dae69d19",
    "_uuid": "8f2839f25d086af736a60e9eeb907d3b93b6e0e5",
    "scrolled": true
   },
   "outputs": [],
   "source": [
    "# This Python 3 environment comes with many helpful analytics libraries installed\n",
    "# It is defined by the kaggle/python docker image: https://github.com/kaggle/docker-python\n",
    "# For example, here's several helpful packages to load in \n",
    "\n",
    "import numpy as np # linear algebra\n",
    "import pandas as pd # data processing, CSV file I/O (e.g. pd.read_csv)\n",
    "import tensorflow as tf #magical gradient computation\n",
    "import matplotlib.pyplot as plt\n",
    "import matplotlib.patches as mpatches\n",
    "import nltk\n",
    "from nltk.corpus import stopwords\n",
    "\n",
    "# Input data files are available in the \"../input/\" directory.\n",
    "# For example, running this (by clicking run or pressing Shift+Enter) will list the files in the input directory\n",
    "\n",
    "import os\n",
    "\n",
    "\n",
    "# Any results you write to the current directory are saved as output."
   ]
  },
  {
   "cell_type": "code",
   "execution_count": 12,
   "metadata": {
    "_cell_guid": "79c7e3d0-c299-4dcb-8224-4455121ee9b0",
    "_uuid": "d629ff2d2480ee46fbb7e2d37f6b5fab8052498a"
   },
   "outputs": [
    {
     "data": {
      "text/html": [
       "<div>\n",
       "<style scoped>\n",
       "    .dataframe tbody tr th:only-of-type {\n",
       "        vertical-align: middle;\n",
       "    }\n",
       "\n",
       "    .dataframe tbody tr th {\n",
       "        vertical-align: top;\n",
       "    }\n",
       "\n",
       "    .dataframe thead th {\n",
       "        text-align: right;\n",
       "    }\n",
       "</style>\n",
       "<table border=\"1\" class=\"dataframe\">\n",
       "  <thead>\n",
       "    <tr style=\"text-align: right;\">\n",
       "      <th></th>\n",
       "      <th>URLs</th>\n",
       "      <th>Headline</th>\n",
       "      <th>Body</th>\n",
       "      <th>Label</th>\n",
       "    </tr>\n",
       "  </thead>\n",
       "  <tbody>\n",
       "    <tr>\n",
       "      <th>3467</th>\n",
       "      <td>http://beforeitsnews.com/sports/2017/10/106-hb...</td>\n",
       "      <td>10/6: HBD Eddie, Tom, Gene, Jeff, Joel &amp; Radha...</td>\n",
       "      <td>Warning Something Big Is About to Happen in Am...</td>\n",
       "      <td>0</td>\n",
       "    </tr>\n",
       "    <tr>\n",
       "      <th>414</th>\n",
       "      <td>https://www.nytimes.com/2017/10/07/sports/base...</td>\n",
       "      <td>Cubs Open Title Defense With a One-Two Punch F...</td>\n",
       "      <td>The Nationals, on the other hand, claimed the ...</td>\n",
       "      <td>1</td>\n",
       "    </tr>\n",
       "    <tr>\n",
       "      <th>2775</th>\n",
       "      <td>http://beforeitsnews.com/scandals/2017/09/vati...</td>\n",
       "      <td>Vatican Kidnaps Teenage Girl Leaked Letter Says</td>\n",
       "      <td>Vatican Kidnaps Teenage Girl Leaked Letter Say...</td>\n",
       "      <td>0</td>\n",
       "    </tr>\n",
       "    <tr>\n",
       "      <th>2014</th>\n",
       "      <td>http://www.cnn.com/videos/us/2017/10/09/wildfi...</td>\n",
       "      <td>Flames engulf California wine country</td>\n",
       "      <td>Chat with us in Facebook Messenger. Find out w...</td>\n",
       "      <td>1</td>\n",
       "    </tr>\n",
       "    <tr>\n",
       "      <th>50</th>\n",
       "      <td>http://beforeitsnews.com/sports/2017/10/107-ch...</td>\n",
       "      <td>10/7: Chuck Axed; HBD Brickyard, Adam, Moonlig...</td>\n",
       "      <td>Red Flag Warning: These California Wildfires A...</td>\n",
       "      <td>0</td>\n",
       "    </tr>\n",
       "  </tbody>\n",
       "</table>\n",
       "</div>"
      ],
      "text/plain": [
       "                                                   URLs  \\\n",
       "3467  http://beforeitsnews.com/sports/2017/10/106-hb...   \n",
       "414   https://www.nytimes.com/2017/10/07/sports/base...   \n",
       "2775  http://beforeitsnews.com/scandals/2017/09/vati...   \n",
       "2014  http://www.cnn.com/videos/us/2017/10/09/wildfi...   \n",
       "50    http://beforeitsnews.com/sports/2017/10/107-ch...   \n",
       "\n",
       "                                               Headline  \\\n",
       "3467  10/6: HBD Eddie, Tom, Gene, Jeff, Joel & Radha...   \n",
       "414   Cubs Open Title Defense With a One-Two Punch F...   \n",
       "2775    Vatican Kidnaps Teenage Girl Leaked Letter Says   \n",
       "2014              Flames engulf California wine country   \n",
       "50    10/7: Chuck Axed; HBD Brickyard, Adam, Moonlig...   \n",
       "\n",
       "                                                   Body  Label  \n",
       "3467  Warning Something Big Is About to Happen in Am...      0  \n",
       "414   The Nationals, on the other hand, claimed the ...      1  \n",
       "2775  Vatican Kidnaps Teenage Girl Leaked Letter Say...      0  \n",
       "2014  Chat with us in Facebook Messenger. Find out w...      1  \n",
       "50    Red Flag Warning: These California Wildfires A...      0  "
      ]
     },
     "execution_count": 12,
     "metadata": {},
     "output_type": "execute_result"
    }
   ],
   "source": [
    "data = pd.read_csv('data.csv')\n",
    "data = data.sample(frac = 1)\n",
    "data.head()"
   ]
  },
  {
   "cell_type": "code",
   "execution_count": 13,
   "metadata": {
    "_uuid": "00d377c66d300b0dd8d1473d3f84fdad54485977",
    "scrolled": true
   },
   "outputs": [
    {
     "data": {
      "text/html": [
       "<div>\n",
       "<style scoped>\n",
       "    .dataframe tbody tr th:only-of-type {\n",
       "        vertical-align: middle;\n",
       "    }\n",
       "\n",
       "    .dataframe tbody tr th {\n",
       "        vertical-align: top;\n",
       "    }\n",
       "\n",
       "    .dataframe thead th {\n",
       "        text-align: right;\n",
       "    }\n",
       "</style>\n",
       "<table border=\"1\" class=\"dataframe\">\n",
       "  <thead>\n",
       "    <tr style=\"text-align: right;\">\n",
       "      <th></th>\n",
       "      <th>URLs</th>\n",
       "      <th>Headline</th>\n",
       "      <th>Body</th>\n",
       "      <th>Label</th>\n",
       "      <th>Length</th>\n",
       "    </tr>\n",
       "  </thead>\n",
       "  <tbody>\n",
       "    <tr>\n",
       "      <th>3467</th>\n",
       "      <td>http://beforeitsnews.com/sports/2017/10/106-hb...</td>\n",
       "      <td>10/6: HBD Eddie, Tom, Gene, Jeff, Joel &amp; Radha...</td>\n",
       "      <td>Warning Something Big Is About to Happen in Am...</td>\n",
       "      <td>0</td>\n",
       "      <td>86</td>\n",
       "    </tr>\n",
       "    <tr>\n",
       "      <th>414</th>\n",
       "      <td>https://www.nytimes.com/2017/10/07/sports/base...</td>\n",
       "      <td>Cubs Open Title Defense With a One-Two Punch F...</td>\n",
       "      <td>The Nationals, on the other hand, claimed the ...</td>\n",
       "      <td>1</td>\n",
       "      <td>66</td>\n",
       "    </tr>\n",
       "    <tr>\n",
       "      <th>2775</th>\n",
       "      <td>http://beforeitsnews.com/scandals/2017/09/vati...</td>\n",
       "      <td>Vatican Kidnaps Teenage Girl Leaked Letter Says</td>\n",
       "      <td>Vatican Kidnaps Teenage Girl Leaked Letter Say...</td>\n",
       "      <td>0</td>\n",
       "      <td>47</td>\n",
       "    </tr>\n",
       "    <tr>\n",
       "      <th>2014</th>\n",
       "      <td>http://www.cnn.com/videos/us/2017/10/09/wildfi...</td>\n",
       "      <td>Flames engulf California wine country</td>\n",
       "      <td>Chat with us in Facebook Messenger. Find out w...</td>\n",
       "      <td>1</td>\n",
       "      <td>37</td>\n",
       "    </tr>\n",
       "    <tr>\n",
       "      <th>50</th>\n",
       "      <td>http://beforeitsnews.com/sports/2017/10/107-ch...</td>\n",
       "      <td>10/7: Chuck Axed; HBD Brickyard, Adam, Moonlig...</td>\n",
       "      <td>Red Flag Warning: These California Wildfires A...</td>\n",
       "      <td>0</td>\n",
       "      <td>83</td>\n",
       "    </tr>\n",
       "  </tbody>\n",
       "</table>\n",
       "</div>"
      ],
      "text/plain": [
       "                                                   URLs  \\\n",
       "3467  http://beforeitsnews.com/sports/2017/10/106-hb...   \n",
       "414   https://www.nytimes.com/2017/10/07/sports/base...   \n",
       "2775  http://beforeitsnews.com/scandals/2017/09/vati...   \n",
       "2014  http://www.cnn.com/videos/us/2017/10/09/wildfi...   \n",
       "50    http://beforeitsnews.com/sports/2017/10/107-ch...   \n",
       "\n",
       "                                               Headline  \\\n",
       "3467  10/6: HBD Eddie, Tom, Gene, Jeff, Joel & Radha...   \n",
       "414   Cubs Open Title Defense With a One-Two Punch F...   \n",
       "2775    Vatican Kidnaps Teenage Girl Leaked Letter Says   \n",
       "2014              Flames engulf California wine country   \n",
       "50    10/7: Chuck Axed; HBD Brickyard, Adam, Moonlig...   \n",
       "\n",
       "                                                   Body  Label  Length  \n",
       "3467  Warning Something Big Is About to Happen in Am...      0      86  \n",
       "414   The Nationals, on the other hand, claimed the ...      1      66  \n",
       "2775  Vatican Kidnaps Teenage Girl Leaked Letter Say...      0      47  \n",
       "2014  Chat with us in Facebook Messenger. Find out w...      1      37  \n",
       "50    Red Flag Warning: These California Wildfires A...      0      83  "
      ]
     },
     "execution_count": 13,
     "metadata": {},
     "output_type": "execute_result"
    }
   ],
   "source": [
    "data['Length'] = [len(headline) for headline in data['Headline']]\n",
    "data.head()"
   ]
  },
  {
   "cell_type": "code",
   "execution_count": 14,
   "metadata": {
    "_uuid": "eb895872926d946aef85cdc9935e504e854876c9",
    "scrolled": true
   },
   "outputs": [
    {
     "data": {
      "text/plain": [
       "count    4009.000000\n",
       "mean       60.104016\n",
       "std        22.660900\n",
       "min         6.000000\n",
       "25%        48.000000\n",
       "50%        60.000000\n",
       "75%        69.000000\n",
       "max       653.000000\n",
       "Name: Length, dtype: float64"
      ]
     },
     "execution_count": 14,
     "metadata": {},
     "output_type": "execute_result"
    }
   ],
   "source": [
    "data['Length'].describe()"
   ]
  },
  {
   "cell_type": "code",
   "execution_count": 18,
   "metadata": {},
   "outputs": [
    {
     "name": "stdout",
     "output_type": "stream",
     "text": [
      "[nltk_data] Downloading package stopwords to /home/ritik/nltk_data...\n",
      "[nltk_data]   Unzipping corpora/stopwords.zip.\n"
     ]
    },
    {
     "data": {
      "text/plain": [
       "True"
      ]
     },
     "execution_count": 18,
     "metadata": {},
     "output_type": "execute_result"
    }
   ],
   "source": [
    "import nltk\n",
    "nltk.download('stopwords')"
   ]
  },
  {
   "cell_type": "code",
   "execution_count": 19,
   "metadata": {
    "_uuid": "315362f60e88dc3dfad5df619312fdaf1a091512"
   },
   "outputs": [],
   "source": [
    "real_text = ' '.join(data[data['Label'] == 1]['Headline'])\n",
    "fake_text = ' '.join(data[data['Label'] == 0]['Headline'])\n",
    "fake_words = [word for word in nltk.tokenize.word_tokenize(fake_text) if word not in stopwords.words('english') and len(word) > 3]\n",
    "real_words = [word for word in nltk.tokenize.word_tokenize(real_text) if word not in stopwords.words('english') and len(word) > 3]"
   ]
  },
  {
   "cell_type": "code",
   "execution_count": 20,
   "metadata": {
    "_uuid": "6189d400c7e0043b67c56d8220e29cc244222a6d"
   },
   "outputs": [
    {
     "data": {
      "image/png": "[encoded data removed]",
      "text/plain": [
       "<matplotlib.figure.Figure at 0x7f5d4dce6400>"
      ]
     },
     "metadata": {},
     "output_type": "display_data"
    }
   ],
   "source": [
    "common_fake = nltk.FreqDist(fake_words).most_common(25)\n",
    "common_real =nltk.FreqDist(real_words).most_common(25)\n",
    "fake_ranks = []\n",
    "fake_counts = []\n",
    "real_ranks = []\n",
    "real_counts = []\n",
    "\n",
    "for ii, word in enumerate(reversed(common_fake)):\n",
    "    fake_ranks.append(ii)\n",
    "    fake_counts.append(word[1])\n",
    "\n",
    "for ii, word in enumerate(reversed(common_real)):\n",
    "    real_ranks.append(ii)\n",
    "    real_counts.append(word[1])\n",
    "\n",
    "plt.figure(figsize=(20, 7))\n",
    "\n",
    "plt.scatter(fake_ranks, fake_counts)\n",
    "\n",
    "for labels, fake_rank, fake_count in zip(common_fake, fake_ranks, fake_counts):\n",
    "    plt.annotate(\n",
    "        labels[0],\n",
    "        xy = (fake_rank, fake_count)\n",
    "    )\n",
    "\n",
    "plt.scatter(real_ranks, real_counts)\n",
    "plt.title('Real vs Fake Headlines')\n",
    "\n",
    "for labels, real_rank, real_count in zip(common_real, real_ranks, real_counts):\n",
    "    plt.annotate(\n",
    "        labels[0],\n",
    "        xy = (real_rank, real_count)\n",
    "    )\n",
    "    \n",
    "real_patch = mpatches.Patch(color='orange', label='Real')\n",
    "fake_patch = mpatches.Patch(color='blue', label='Fake')\n",
    "plt.legend(handles=[real_patch, fake_patch])\n",
    "\n",
    "plt.show()\n",
    "\n",
    "    "
   ]
  },
  {
   "cell_type": "code",
   "execution_count": 21,
   "metadata": {
    "_uuid": "ec1847d7b77eb95f4de64ba2f2861101f1f9a4ea",
    "scrolled": true
   },
   "outputs": [
    {
     "data": {
      "text/html": [
       "<div>\n",
       "<style scoped>\n",
       "    .dataframe tbody tr th:only-of-type {\n",
       "        vertical-align: middle;\n",
       "    }\n",
       "\n",
       "    .dataframe tbody tr th {\n",
       "        vertical-align: top;\n",
       "    }\n",
       "\n",
       "    .dataframe thead th {\n",
       "        text-align: right;\n",
       "    }\n",
       "</style>\n",
       "<table border=\"1\" class=\"dataframe\">\n",
       "  <thead>\n",
       "    <tr style=\"text-align: right;\">\n",
       "      <th></th>\n",
       "      <th>Label</th>\n",
       "      <th>Length</th>\n",
       "    </tr>\n",
       "  </thead>\n",
       "  <tbody>\n",
       "    <tr>\n",
       "      <th>count</th>\n",
       "      <td>4009.000000</td>\n",
       "      <td>4009.0</td>\n",
       "    </tr>\n",
       "    <tr>\n",
       "      <th>mean</th>\n",
       "      <td>0.466949</td>\n",
       "      <td>69.0</td>\n",
       "    </tr>\n",
       "    <tr>\n",
       "      <th>std</th>\n",
       "      <td>0.498969</td>\n",
       "      <td>0.0</td>\n",
       "    </tr>\n",
       "    <tr>\n",
       "      <th>min</th>\n",
       "      <td>0.000000</td>\n",
       "      <td>69.0</td>\n",
       "    </tr>\n",
       "    <tr>\n",
       "      <th>25%</th>\n",
       "      <td>0.000000</td>\n",
       "      <td>69.0</td>\n",
       "    </tr>\n",
       "    <tr>\n",
       "      <th>50%</th>\n",
       "      <td>0.000000</td>\n",
       "      <td>69.0</td>\n",
       "    </tr>\n",
       "    <tr>\n",
       "      <th>75%</th>\n",
       "      <td>1.000000</td>\n",
       "      <td>69.0</td>\n",
       "    </tr>\n",
       "    <tr>\n",
       "      <th>max</th>\n",
       "      <td>1.000000</td>\n",
       "      <td>69.0</td>\n",
       "    </tr>\n",
       "  </tbody>\n",
       "</table>\n",
       "</div>"
      ],
      "text/plain": [
       "             Label  Length\n",
       "count  4009.000000  4009.0\n",
       "mean      0.466949    69.0\n",
       "std       0.498969     0.0\n",
       "min       0.000000    69.0\n",
       "25%       0.000000    69.0\n",
       "50%       0.000000    69.0\n",
       "75%       1.000000    69.0\n",
       "max       1.000000    69.0"
      ]
     },
     "execution_count": 21,
     "metadata": {},
     "output_type": "execute_result"
    }
   ],
   "source": [
    "def pad(x):\n",
    "    \n",
    "    if len(x) < 69:\n",
    "        \n",
    "        return x + ' ' * (69 - len(x))\n",
    "    \n",
    "    return x\n",
    "\n",
    "def trim(x):\n",
    "    \n",
    "    if len(x) > 69:\n",
    "        \n",
    "        return x[:69]\n",
    "    \n",
    "    return x\n",
    "\n",
    "data['Headline'] = data['Headline'].apply(pad)\n",
    "data['Headline'] = data['Headline'].apply(trim)\n",
    "data['Length'] = [len(headline) for headline in data['Headline']]\n",
    "data.describe()"
   ]
  },
  {
   "cell_type": "code",
   "execution_count": 22,
   "metadata": {
    "_uuid": "5e29784f185dd0560c1f20b368e3ca15c64fd0d2"
   },
   "outputs": [],
   "source": [
    "text = ' '.join(data['Headline'])\n",
    "dictionary_size = len(set(text))\n",
    "dictionary = sorted(set(text))\n",
    "character_map = { k:v for v, k in enumerate(dictionary) }\n",
    "max_length = 69\n",
    "batch_size = 50"
   ]
  },
  {
   "cell_type": "code",
   "execution_count": 23,
   "metadata": {
    "_uuid": "4026e96ee06a9451da1fd92b1970a233e00daf39"
   },
   "outputs": [],
   "source": [
    "def to_input(sentence, character_map, dictionary_size):\n",
    "    \n",
    "    sentence = np.array([character_map[char] for char in sentence])\n",
    "    one_hot = np.zeros((len(sentence), dictionary_size))\n",
    "    one_hot[np.arange(len(sentence)), sentence] = 1\n",
    "    return one_hot\n",
    "\n",
    "def batch(sentences, labels, start, batch_size):\n",
    "    \n",
    "    if start + batch_size < len(sentences):\n",
    "        \n",
    "        inputs = [to_input(sentence, character_map, dictionary_size) for sentence in sentences[start: start + batch_size ]]\n",
    "        labels = [label for label in labels[start: start + batch_size ]]\n",
    "        start = start + batch_size\n",
    "    \n",
    "    else:\n",
    "        \n",
    "        inputs = [to_input(sentence, character_map, dictionary_size) for sentence in sentences[start:]]\n",
    "        labels = [label for label in labels[start:]]\n",
    "        start = 0\n",
    "    \n",
    "    return np.array(inputs), np.array(labels) , start\n",
    "\n",
    "def test_batch(sentences, labels):\n",
    "    \n",
    "        \n",
    "    inputs = [to_input(sentence, character_map, dictionary_size) for sentence in sentences]\n",
    "    labels = [label for label in labels]\n",
    "\n",
    "    return np.array(inputs), np.array(labels)"
   ]
  },
  {
   "cell_type": "code",
   "execution_count": 24,
   "metadata": {
    "_uuid": "a72fd6865f53e855a1d3cd0ab9adbfc27dc48138"
   },
   "outputs": [],
   "source": [
    "inputs = tf.placeholder(tf.float32, [None, max_length, dictionary_size])\n",
    "labels = tf.placeholder(tf.int64, [None])\n",
    "hidden_size = 512\n",
    "cell = tf.contrib.rnn.LSTMCell(hidden_size, state_is_tuple = True)\n",
    "initial_state = tf.contrib.rnn.LSTMStateTuple(tf.placeholder(tf.float32, [None, hidden_size], name = \"c_init\"), \n",
    "                                             tf.placeholder(tf.float32, [None, hidden_size], name = \"h_init\"))\n",
    "\n",
    "with tf.variable_scope(\"softmax\") as softmax:\n",
    "    \n",
    "    W_h = tf.get_variable(\"Wh\", \n",
    "        shape = [hidden_size, 2], \n",
    "        dtype = tf.float32,\n",
    "        initializer = tf.random_normal_initializer(.1)\n",
    "    )\n",
    "\n",
    "    b_h = tf.get_variable(\"bh\", \n",
    "        shape = 2,\n",
    "        dtype = tf.float32,\n",
    "        initializer = tf.ones_initializer()\n",
    "    )\n",
    "\n",
    "outputs, state = tf.nn.dynamic_rnn(cell, inputs, initial_state = initial_state)\n",
    "\n",
    "logits = tf.matmul(outputs[:,-1, :], W_h) + b_h\n",
    "\n",
    "loss = tf.reduce_mean(\n",
    "    tf.nn.sparse_softmax_cross_entropy_with_logits(\n",
    "        labels = labels, logits = logits\n",
    "    )\n",
    ")\n",
    "\n",
    "accuracy = tf.reduce_mean(\n",
    "    tf.cast(tf.equal(\n",
    "        tf.argmax(logits, 1),\n",
    "        tf.cast(labels, tf.int64)\n",
    "    ), \n",
    "    tf.float32)\n",
    ")\n",
    "\n",
    "optimizer = tf.train.AdamOptimizer(.001)\n",
    "\n",
    "train_step = optimizer.minimize(loss)\n",
    "\n",
    "\n",
    "\n"
   ]
  },
  {
   "cell_type": "code",
   "execution_count": 37,
   "metadata": {
    "_uuid": "a32cda7a8cf4cbd8e64ba3578740c0b1e748b835",
    "scrolled": false
   },
   "outputs": [
    {
     "name": "stdout",
     "output_type": "stream",
     "text": [
      "2.780674 0.5174507\n",
      "0.45088315 0.75872535\n",
      "0.5540943 0.6949924\n",
      "0.5175327 0.79817903\n",
      "0.40012005 0.8300455\n",
      "0.39245465 0.8179059\n",
      "0.3782379 0.85887706\n",
      "0.40897 0.831563\n",
      "0.38386512 0.84218514\n",
      "0.41582903 0.8482549\n"
     ]
    }
   ],
   "source": [
    "save_path = 'checkpoints/'\n",
    "model_name = 'my_model'\n",
    "if not os.path.exists(save_path):\n",
    "    os.makedirs(save_path)\n",
    "...\n",
    "saver = tf.train.Saver()\n",
    "save_path_full = os.path.join(save_path, model_name)\n",
    "\n",
    "\n",
    "with tf.Session() as sess:\n",
    "    \n",
    "    init = tf.global_variables_initializer()\n",
    "    sess.run(init)\n",
    "\n",
    "    initial = sess.run(cell.zero_state(50, tf.float32))\n",
    "\n",
    "    start = 0\n",
    "    inputs_, targets_, start = batch(data[\"Headline\"][:3350], data[\"Label\"][:3350], start, batch_size)\n",
    "\n",
    "    for step in range(1000):\n",
    "        _, initial = sess.run([train_step, initial_state], feed_dict = {\n",
    "            inputs:inputs_, \n",
    "            labels:targets_,\n",
    "            initial_state:initial\n",
    "        })\n",
    "\n",
    "        inputs_, targets_, start = batch(data[\"Headline\"][:3350], data[\"Label\"][:3350], start, batch_size)\n",
    "\n",
    "\n",
    "        if step % 100 == 0:\n",
    "\n",
    "            test_inputs, test_targets = test_batch(data[\"Headline\"][3350:], data[\"Label\"][3350:])\n",
    "            cost, acc = sess.run([loss, accuracy], feed_dict = {\n",
    "            inputs:test_inputs, \n",
    "            labels:test_targets,\n",
    "            initial_state:sess.run(cell.zero_state(len(data[\"Label\"][3350:]), tf.float32))\n",
    "            })\n",
    "\n",
    "            print(cost, acc)\n",
    "\n",
    "    saver.save(sess, save_path_full)\n",
    "            \n",
    "            "
   ]
  }
 ],
 "metadata": {
  "kernelspec": {
   "display_name": "Python 3",
   "language": "python",
   "name": "python3"
  },
  "language_info": {
   "codemirror_mode": {
    "name": "ipython",
    "version": 3
   },
   "file_extension": ".py",
   "mimetype": "text/x-python",
   "name": "python",
   "nbconvert_exporter": "python",
   "pygments_lexer": "ipython3",
   "version": "3.6.4"
  }
 },
 "nbformat": 4,
 "nbformat_minor": 1
}
